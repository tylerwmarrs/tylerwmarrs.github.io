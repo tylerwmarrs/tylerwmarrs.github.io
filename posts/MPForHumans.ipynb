{
 "cells": [
  {
   "cell_type": "markdown",
   "metadata": {},
   "source": [
    "**Draft 1** - June 11, 2019 <br />\n",
    "Please note that this blog post may go through several iterations based on feedback from the community.\n",
    "\n",
    "# Introduction\n",
    "\n",
    "This blog post is my attempt at creating a clear understanding of what a matrix profile is and why you should care about it. The goal of the post is to only use visual aids and avoid using any math notation. I strongly believe that the matrix profile is a revolutionary approach to analyzing time series data and it should be presented in a way that everyone can understand its applications. Although I will not use any math notation, there will be some terminology thrown around.\n",
    "\n",
    "# Terminology\n",
    "\n",
    "This section is used to describe terminology used throughout the post.\n",
    "\n",
    "<table>\n",
    "    <thead>\n",
    "        <tr>\n",
    "            <th>Term</th>\n",
    "            <th>Description</th>\n",
    "        </tr>\n",
    "    </thead>\n",
    "<tbody>\n",
    "<tr>\n",
    "<td>Subsequence</td>\n",
    "<td>A small snippet of the time series.</td>\n",
    "</tr>\n",
    "<tr>\n",
    "<td>Motif</td>\n",
    "<td>A time series specific term that shows a reoccurring pattern. For example, approaching the holidays in the United States retail sales go up.</td>\n",
    "</tr>\n",
    "<tr>\n",
    "<td>Anomaly</td>\n",
    "<td>An anomaly is something that shifts from a standard pattern. For example, a solar eclipse does not happen every day.</td>\n",
    "</tr>\n",
    "<tr>\n",
    "<td>Discord</td>\n",
    "<td>This is synonymous with anomaly, but a time series pattern mining specific term.</td>\n",
    "</tr>\n",
    "</tbody></table>\n",
    "\n",
    "# Background\n",
    "\n",
    "Computational analysis of large series was difficult due to hardware limitations.\n",
    "In the past many algorithms use domain specific heuristics to make computation faster. MP is domain agnostic.\n",
    "Other algorithms used a lot of memory - hashing.\n",
    "\n",
    "# Examples\n",
    "\n",
    "Analyzing a time series is generally a visual exercise. A domain expert reviews it and draws conclusions. An example that everyone should be familiar with is stocks. Anyone that ever looked at stock prices on a daily basis knows the importance of trends to determine if you should buy or sell. It is pretty easy to see a trend when you look at aggregated data on a daily, weekly, monthly or annual basis. However, some of the information is lost. What if you wanted to review the trends on a scale of milliseconds? It would be very difficult to visually inspect. Yes, you may come to the conclusion that there are trade bots out there, but bear with me.\n",
    "\n",
    "TODO Plot stock trends..."
   ]
  }
 ],
 "metadata": {
  "kernelspec": {
   "display_name": "Python 3",
   "language": "python",
   "name": "python3"
  },
  "language_info": {
   "codemirror_mode": {
    "name": "ipython",
    "version": 3
   },
   "file_extension": ".py",
   "mimetype": "text/x-python",
   "name": "python",
   "nbconvert_exporter": "python",
   "pygments_lexer": "ipython3",
   "version": "3.6.8"
  }
 },
 "nbformat": 4,
 "nbformat_minor": 2
}
